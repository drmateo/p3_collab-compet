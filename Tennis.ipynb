{
 "cells": [
  {
   "cell_type": "markdown",
   "metadata": {},
   "source": [
    "# Collaboration and Competition\n",
    "\n",
    "---\n",
    "\n",
    "In this notebook, you will learn how to use the Unity ML-Agents environment for the third project of the [Deep Reinforcement Learning Nanodegree](https://www.udacity.com/course/deep-reinforcement-learning-nanodegree--nd893) program. This is divided into 5 section: first section is devoted to launch the environment; second for examine action and state spaces; third launch a random agent; fourth train a DDGP agent; and fifth evaluate the trained DDGP agent. Note that alway before of execute section 3, 4 or 5 you will have to restart the current kernel and secuentialy execute section 1, 2 and desired section (4, 3 or 5). \n",
    "\n",
    "Also, both train and evaluation can be excuted via terminal by executing train.py and eval.py scripts\n",
    "```\n",
    "% python train.py\n",
    "```\n",
    ". If you dessired to see how train_ddpg and eval_ddpg are implemented go to those scripts.\n",
    "\n",
    "### 1. Start the Environment\n",
    "\n",
    "We begin by importing the necessary packages.  If the code cell below returns an error, please revisit the project instructions to double-check that you have installed [Unity ML-Agents](https://github.com/Unity-Technologies/ml-agents/blob/master/docs/Installation.md) and [NumPy](http://www.numpy.org/)."
   ]
  },
  {
   "cell_type": "code",
   "execution_count": 1,
   "metadata": {},
   "outputs": [],
   "source": [
    "from unityagents import UnityEnvironment\n",
    "import numpy as np"
   ]
  },
  {
   "cell_type": "markdown",
   "metadata": {},
   "source": [
    "Next, we will start the environment!  **_Before running the code cell below_**, change the `file_name` parameter to match the location of the Unity environment that you downloaded.\n",
    "\n",
    "- **Mac**: `\"path/to/Tennis.app\"`\n",
    "- **Windows** (x86): `\"path/to/Tennis_Windows_x86/Tennis.exe\"`\n",
    "- **Windows** (x86_64): `\"path/to/Tennis_Windows_x86_64/Tennis.exe\"`\n",
    "- **Linux** (x86): `\"path/to/Tennis_Linux/Tennis.x86\"`\n",
    "- **Linux** (x86_64): `\"path/to/Tennis_Linux/Tennis.x86_64\"`\n",
    "- **Linux** (x86, headless): `\"path/to/Tennis_Linux_NoVis/Tennis.x86\"`\n",
    "- **Linux** (x86_64, headless): `\"path/to/Tennis_Linux_NoVis/Tennis.x86_64\"`\n",
    "\n",
    "For instance, if you are using a Mac, then you downloaded `Tennis.app`.  If this file is in the same folder as the notebook, then the line below should appear as follows:\n",
    "```\n",
    "env = UnityEnvironment(file_name=\"Tennis.app\")\n",
    "```"
   ]
  },
  {
   "cell_type": "code",
   "execution_count": 2,
   "metadata": {},
   "outputs": [
    {
     "name": "stderr",
     "output_type": "stream",
     "text": [
      "INFO:unityagents:\n",
      "'Academy' started successfully!\n",
      "Unity Academy name: Academy\n",
      "        Number of Brains: 1\n",
      "        Number of External Brains : 1\n",
      "        Lesson number : 0\n",
      "        Reset Parameters :\n",
      "\t\t\n",
      "Unity brain name: TennisBrain\n",
      "        Number of Visual Observations (per agent): 0\n",
      "        Vector Observation space type: continuous\n",
      "        Vector Observation space size (per agent): 8\n",
      "        Number of stacked Vector Observation: 3\n",
      "        Vector Action space type: continuous\n",
      "        Vector Action space size (per agent): 2\n",
      "        Vector Action descriptions: , \n"
     ]
    }
   ],
   "source": [
    "env = UnityEnvironment(file_name=\"Tennis_Linux/Tennis.x86_64\")"
   ]
  },
  {
   "cell_type": "markdown",
   "metadata": {},
   "source": [
    "Environments contain **_brains_** which are responsible for deciding the actions of their associated agents. Here we check for the first brain available, and set it as the default brain we will be controlling from Python."
   ]
  },
  {
   "cell_type": "code",
   "execution_count": 3,
   "metadata": {},
   "outputs": [],
   "source": [
    "# get the default brain\n",
    "brain_name = env.brain_names[0]\n",
    "brain = env.brains[brain_name]"
   ]
  },
  {
   "cell_type": "markdown",
   "metadata": {},
   "source": [
    "### 2. Examine the State and Action Spaces\n",
    "\n",
    "In this environment, two agents control rackets to bounce a ball over a net. If an agent hits the ball over the net, it receives a reward of +0.1.  If an agent lets a ball hit the ground or hits the ball out of bounds, it receives a reward of -0.01.  Thus, the goal of each agent is to keep the ball in play.\n",
    "\n",
    "The observation space consists of 8 variables corresponding to the position and velocity of the ball and racket. Two continuous actions are available, corresponding to movement toward (or away from) the net, and jumping. \n",
    "\n",
    "Run the code cell below to print some information about the environment."
   ]
  },
  {
   "cell_type": "code",
   "execution_count": 4,
   "metadata": {},
   "outputs": [
    {
     "name": "stdout",
     "output_type": "stream",
     "text": [
      "Number of agents: 2\n",
      "Size of each action: 2\n",
      "There are 2 agents. Each observes a state with length: 24\n",
      "The state for the first agent looks like: [ 0.          0.          0.          0.          0.          0.\n",
      "  0.          0.          0.          0.          0.          0.\n",
      "  0.          0.          0.          0.         -6.65278625 -1.5\n",
      " -0.          0.          6.83172083  6.         -0.          0.        ]\n"
     ]
    }
   ],
   "source": [
    "# reset the environment\n",
    "env_info = env.reset(train_mode=True)[brain_name]\n",
    "\n",
    "# number of agents \n",
    "num_agents = len(env_info.agents)\n",
    "print('Number of agents:', num_agents)\n",
    "\n",
    "# size of each action\n",
    "action_size = brain.vector_action_space_size\n",
    "print('Size of each action:', action_size)\n",
    "\n",
    "# examine the state space \n",
    "states = env_info.vector_observations\n",
    "state_size = states.shape[1]\n",
    "print('There are {} agents. Each observes a state with length: {}'.format(states.shape[0], state_size))\n",
    "print('The state for the first agent looks like:', states[0])"
   ]
  },
  {
   "cell_type": "markdown",
   "metadata": {},
   "source": [
    "### 3. Take Random Actions in the Environment\n",
    "\n",
    "In the next code cell, you will learn how to use the Python API to control the agents and receive feedback from the environment.\n",
    "\n",
    "Once this cell is executed, you will watch the agents' performance, if they select actions at random with each time step.  A window should pop up that allows you to observe the agents.\n",
    "\n",
    "Of course, as part of the project, you'll have to change the code so that the agents are able to use their experiences to gradually choose better actions when interacting with the environment!"
   ]
  },
  {
   "cell_type": "code",
   "execution_count": 5,
   "metadata": {},
   "outputs": [
    {
     "name": "stdout",
     "output_type": "stream",
     "text": [
      "Score (max over agents) from episode 1: 0.0\n",
      "Score (max over agents) from episode 2: 0.0\n",
      "Score (max over agents) from episode 3: 0.0\n",
      "Score (max over agents) from episode 4: 0.0\n",
      "Score (max over agents) from episode 5: 0.0\n"
     ]
    }
   ],
   "source": [
    "for i in range(1, 6):                                      # play game for 5 episodes\n",
    "    env_info = env.reset(train_mode=False)[brain_name]     # reset the environment    \n",
    "    states = env_info.vector_observations                  # get the current state (for each agent)\n",
    "    scores = np.zeros(num_agents)                          # initialize the score (for each agent)\n",
    "    while True:\n",
    "        actions = np.random.randn(num_agents, action_size) # select an action (for each agent)\n",
    "        actions = np.clip(actions, -1, 1)                  # all actions between -1 and 1\n",
    "        env_info = env.step(actions)[brain_name]           # send all actions to tne environment\n",
    "        next_states = env_info.vector_observations         # get next state (for each agent)\n",
    "        rewards = env_info.rewards                         # get reward (for each agent)\n",
    "        dones = env_info.local_done                        # see if episode finished\n",
    "        scores += env_info.rewards                         # update the score (for each agent)\n",
    "        states = next_states                               # roll over states to next time step\n",
    "        if np.any(dones):                                  # exit loop if episode finished\n",
    "            break\n",
    "    print('Score (max over agents) from episode {}: {}'.format(i, np.max(scores)))"
   ]
  },
  {
   "cell_type": "markdown",
   "metadata": {},
   "source": [
    "When finished, you can close the environment."
   ]
  },
  {
   "cell_type": "code",
   "execution_count": 6,
   "metadata": {},
   "outputs": [],
   "source": [
    "env.close()"
   ]
  },
  {
   "cell_type": "markdown",
   "metadata": {},
   "source": [
    "### 4. Train an agent in the Environmen!\n",
    "\n",
    "\n",
    "Now it's your turn to train your own agent to solve the environment!  When training the environment, set the desired number of episodes during training as `n_episodes=1000` and the number of steps per episode using `max_t=2000`. For setting an specific agent configuration, set each parameters as:\n",
    "```python\n",
    "config = Config(num_agents)\n",
    "config.batch_size = 128\n",
    "```"
   ]
  },
  {
   "cell_type": "code",
   "execution_count": 5,
   "metadata": {},
   "outputs": [
    {
     "name": "stdout",
     "output_type": "stream",
     "text": [
      "Actor model: Actor(\n",
      "  (normalizer): BatchNorm1d(24, eps=1e-05, momentum=0.1, affine=True, track_running_stats=True)\n",
      "  (dropout): Dropout(p=0.1)\n",
      "  (fc_hidden): ModuleList(\n",
      "    (0): Linear(in_features=24, out_features=128, bias=True)\n",
      "    (1): Linear(in_features=128, out_features=128, bias=True)\n",
      "  )\n",
      "  (fc_out): Linear(in_features=128, out_features=2, bias=True)\n",
      ")\n",
      "Critic model: Critic(\n",
      "  (normalizer): BatchNorm1d(24, eps=1e-05, momentum=0.1, affine=True, track_running_stats=True)\n",
      "  (dropout): Dropout(p=0.1)\n",
      "  (fc_hidden): ModuleList(\n",
      "    (0): Linear(in_features=24, out_features=126, bias=True)\n",
      "    (1): Linear(in_features=128, out_features=128, bias=True)\n",
      "  )\n",
      "  (fc_out): Linear(in_features=128, out_features=1, bias=True)\n",
      ")\n",
      "Episode 100\tScore: 0.00\tAverage Score: 0.02\tMax Score: 0.20\t\tMin Score: 0.00\n",
      "Episode 200\tScore: 0.00\tAverage Score: 0.00\tMax Score: 0.00\t\tMin Score: 0.00\n",
      "Episode 300\tScore: 0.00\tAverage Score: 0.00\tMax Score: 0.00\t\tMin Score: 0.00\n",
      "Episode 400\tScore: 0.00\tAverage Score: 0.00\tMax Score: 0.00\t\tMin Score: 0.00\n",
      "Episode 500\tScore: 0.00\tAverage Score: 0.00\tMax Score: 0.00\t\tMin Score: 0.00\n",
      "Episode 600\tScore: 0.00\tAverage Score: 0.00\tMax Score: 0.00\t\tMin Score: 0.00\n",
      "Episode 700\tScore: 0.00\tAverage Score: 0.00\tMax Score: 0.00\t\tMin Score: 0.00\n",
      "Episode 800\tScore: 0.00\tAverage Score: 0.04\tMax Score: 0.20\t\tMin Score: 0.00\n",
      "Episode 900\tScore: 0.10\tAverage Score: 0.06\tMax Score: 0.20\t\tMin Score: 0.00\n",
      "Episode 1000\tScore: 0.09\tAverage Score: 0.11\tMax Score: 0.50\t\tMin Score: 0.00\n",
      "Episode 1100\tScore: 0.10\tAverage Score: 0.11\tMax Score: 0.40\t\tMin Score: 0.09\n",
      "Episode 1168\tScore: 0.80\tAverage Score: 0.50\tMax Score: 2.70\t\tMin Score: 0.00"
     ]
    },
    {
     "data": {
      "image/png": "[encoded data removed]",
      "text/plain": [
       "<Figure size 432x288 with 1 Axes>"
      ]
     },
     "metadata": {},
     "output_type": "display_data"
    }
   ],
   "source": [
    "import torch\n",
    "import numpy as np\n",
    "from collections import deque\n",
    "import matplotlib.pyplot as plt\n",
    "%matplotlib inline\n",
    "from itertools import count\n",
    "\n",
    "from ddpg_agent import Agent, Config\n",
    "from train import train_ddpg\n",
    "\n",
    "# Configure agent\n",
    "config = Config(num_agents)\n",
    "config.batch_size = 256\n",
    "config.buffer_size = 100000\n",
    "\n",
    "config.tau = 1e-3\n",
    "        \n",
    "config.actor_hidden_drop = 0.1\n",
    "config.actor_hidden_units = (128, 128)\n",
    "config.lr_actor = 5e-4\n",
    "\n",
    "config.critic_hidden_drop = 0.1\n",
    "config.critic_hidden_units = (128-action_size, 128)\n",
    "config.lr_critic = 5e-4\n",
    "\n",
    "# Init the learner agent\n",
    "agent = Agent(state_size, action_size, config=config, random_seed=1234)\n",
    "print('Actor model:',agent.actor_local)\n",
    "print('Critic model:',agent.critic_local)\n",
    "\n",
    "# Train the agent\n",
    "scores, scores_avg_hist = train_ddpg(agent, env, brain_name=brain_name, num_agents=num_agents, n_episodes=2000, early_stop=True)\n",
    "\n",
    "# Show results\n",
    "fig = plt.figure()\n",
    "ax = fig.add_subplot(111)\n",
    "plt.plot(np.arange(1, len(scores)+1), scores, 'b-')\n",
    "plt.plot(np.arange(1, len(scores)+1), scores_avg_hist, 'r-')\n",
    "plt.ylabel('Score')\n",
    "plt.xlabel('Episode #')\n",
    "plt.show()\n",
    "\n",
    "# Finish environment\n",
    "env.close()"
   ]
  },
  {
   "cell_type": "markdown",
   "metadata": {},
   "source": [
    "### 5. Test an agent in the Environmen!\n",
    "Now it's your turn to test your own agent to solve the environment! When testing the environment, set the desired number of episodes during testing as n_episodes=100. For setting an specific agent configuration, set each parameters as:\n",
    "\n",
    "config = Config(num_agents)\n",
    "config.batch_size = 128"
   ]
  },
  {
   "cell_type": "code",
   "execution_count": 5,
   "metadata": {},
   "outputs": [
    {
     "name": "stdout",
     "output_type": "stream",
     "text": [
      "Episode 10\tScore: 2.60\tAverage Score: 1.38\tMax Score: 2.70\tMin Score: 0.00"
     ]
    },
    {
     "data": {
      "image/png": "[encoded data removed]",
      "text/plain": [
       "<Figure size 432x288 with 1 Axes>"
      ]
     },
     "metadata": {},
     "output_type": "display_data"
    }
   ],
   "source": [
    "import torch\n",
    "import numpy as np\n",
    "from collections import deque\n",
    "import matplotlib.pyplot as plt\n",
    "%matplotlib inline\n",
    "from itertools import count\n",
    "\n",
    "from ddpg_agent import Agent, Config\n",
    "from eval import eval_ddpg\n",
    "\n",
    "# Configure agent\n",
    "config = Config(num_agents)\n",
    "config.batch_size = 256\n",
    "config.buffer_size = 100000\n",
    "\n",
    "config.tau = 1e-3\n",
    "        \n",
    "config.actor_hidden_drop = 0.1\n",
    "config.actor_hidden_units = (128, 128)\n",
    "\n",
    "config.critic_hidden_drop = 0.1\n",
    "config.critic_hidden_units = (128-action_size, 128)\n",
    "\n",
    "# Init the learner agent\n",
    "agent = Agent(state_size, action_size, config=config, random_seed=1234)\n",
    "agent.actor_local.load_state_dict(torch.load('checkpoint_actor_01168_050.pth'))\n",
    "agent.critic_local.load_state_dict(torch.load('checkpoint_critic_01168_050.pth'))\n",
    "\n",
    "# Test the agent\n",
    "scores, scores_avg_hist = eval_ddpg(agent, env, brain_name=brain_name, num_agents=num_agents, n_episodes=10)\n",
    "\n",
    "# Show results\n",
    "fig = plt.figure()\n",
    "ax = fig.add_subplot(111)\n",
    "plt.plot(np.arange(1, len(scores)+1), scores, 'b-')\n",
    "plt.plot(np.arange(1, len(scores)+1), scores_avg_hist, 'r-')\n",
    "plt.ylabel('Score')\n",
    "plt.xlabel('Episode #')\n",
    "plt.show()\n",
    "\n",
    "# Finish environment\n",
    "env.close()"
   ]
  },
  {
   "cell_type": "markdown",
   "metadata": {},
   "source": [
    "### 6. Questions\n",
    "\n",
    "Question or suggestions please, let me know using issue track in my github repo."
   ]
  },
  {
   "cell_type": "code",
   "execution_count": null,
   "metadata": {},
   "outputs": [],
   "source": []
  }
 ],
 "metadata": {
  "kernelspec": {
   "display_name": "drlnd",
   "language": "python",
   "name": "drlnd"
  },
  "language_info": {
   "codemirror_mode": {
    "name": "ipython",
    "version": 3
   },
   "file_extension": ".py",
   "mimetype": "text/x-python",
   "name": "python",
   "nbconvert_exporter": "python",
   "pygments_lexer": "ipython3",
   "version": "3.6.10"
  }
 },
 "nbformat": 4,
 "nbformat_minor": 2
}
